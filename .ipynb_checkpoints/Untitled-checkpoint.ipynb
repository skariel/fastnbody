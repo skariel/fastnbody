{
 "cells": [
  {
   "cell_type": "code",
   "execution_count": 1,
   "metadata": {
    "collapsed": false
   },
   "outputs": [],
   "source": [
    "include(\"lib/all.jl\");"
   ]
  },
  {
   "cell_type": "code",
   "execution_count": 2,
   "metadata": {
    "collapsed": false
   },
   "outputs": [],
   "source": [
    "N = 1000000\n",
    "particles = [Particle(rand(),rand(),rand(), 1.0) for i in 1:N];"
   ]
  },
  {
   "cell_type": "code",
   "execution_count": 4,
   "metadata": {
    "collapsed": false
   },
   "outputs": [
    {
     "name": "stdout",
     "output_type": "stream",
     "text": [
      "  0.188480 seconds (4 allocations: 160 bytes)\n"
     ]
    }
   ],
   "source": [
    "@time hilbertsort!(particles);"
   ]
  },
  {
   "cell_type": "code",
   "execution_count": 5,
   "metadata": {
    "collapsed": false
   },
   "outputs": [],
   "source": [
    "ot = ParallelOctTree(0.5,0.5,0.5,0.5, N);"
   ]
  },
  {
   "cell_type": "code",
   "execution_count": 8,
   "metadata": {
    "collapsed": false
   },
   "outputs": [],
   "source": [
    "clear!(ot)"
   ]
  },
  {
   "cell_type": "code",
   "execution_count": 9,
   "metadata": {
    "collapsed": false
   },
   "outputs": [
    {
     "name": "stdout",
     "output_type": "stream",
     "text": [
      "  0.078894 seconds (9 allocations: 512 bytes)\n"
     ]
    }
   ],
   "source": [
    "@time insert!(ot, particles);"
   ]
  },
  {
   "cell_type": "code",
   "execution_count": 10,
   "metadata": {
    "collapsed": true
   },
   "outputs": [],
   "source": [
    "ax=zeros(N)\n",
    "ay=zeros(N)\n",
    "az=zeros(N);"
   ]
  },
  {
   "cell_type": "code",
   "execution_count": 19,
   "metadata": {
    "collapsed": false
   },
   "outputs": [
    {
     "name": "stdout",
     "output_type": "stream",
     "text": [
      "  3.675350 seconds (6 allocations: 240 bytes)\n"
     ]
    }
   ],
   "source": [
    "@time get_accel_all_particles!(ot, particles, 0.5, 1.0e-157, ax,ay,az);"
   ]
  },
  {
   "cell_type": "code",
   "execution_count": 20,
   "metadata": {
    "collapsed": false
   },
   "outputs": [
    {
     "name": "stdout",
     "output_type": "stream",
     "text": [
      "  2.671019 seconds (6 allocations: 256 bytes)\n"
     ]
    }
   ],
   "source": [
    "@time get_accel_all_particles_rel!(ot, particles, 0.001, 1.0e-157, ax,ay,az);"
   ]
  },
  {
   "cell_type": "code",
   "execution_count": 21,
   "metadata": {
    "collapsed": false
   },
   "outputs": [
    {
     "data": {
      "text/plain": [
       "(-1.364613676066402e6,-972822.468426005,-1.1813506269856687e6)"
      ]
     },
     "execution_count": 21,
     "metadata": {},
     "output_type": "execute_result"
    }
   ],
   "source": [
    "ax[300], ay[300], az[300]"
   ]
  },
  {
   "cell_type": "code",
   "execution_count": 22,
   "metadata": {
    "collapsed": false
   },
   "outputs": [
    {
     "name": "stderr",
     "output_type": "stream",
     "text": [
      "WARNING: Method definition get_acc(Any, Any) in module Main at In[14]:2 overwritten at In[22]:2.\n"
     ]
    },
    {
     "data": {
      "text/plain": [
       "get_acc (generic function with 1 method)"
      ]
     },
     "execution_count": 22,
     "metadata": {},
     "output_type": "execute_result"
    }
   ],
   "source": [
    "function get_acc(particles, ix)\n",
    "    ax=0.0\n",
    "    ay=0.0\n",
    "    az=0.0\n",
    "    @inbounds for p in particles\n",
    "        dx = p.x-particles[ix].x\n",
    "        dy = p.y-particles[ix].y\n",
    "        dz = p.z-particles[ix].z\n",
    "        dr2 = dx*dx+dy*dy+dz*dz+1.0e-157\n",
    "        dr3 = dr2*sqrt(dr2)\n",
    "        ax += dx/dr3\n",
    "        ay += dy/dr3\n",
    "        az += dz/dr3\n",
    "    end\n",
    "    ax,ay,az\n",
    "end"
   ]
  },
  {
   "cell_type": "code",
   "execution_count": 23,
   "metadata": {
    "collapsed": false
   },
   "outputs": [
    {
     "name": "stdout",
     "output_type": "stream",
     "text": [
      "  0.026082 seconds (3.95 k allocations: 170.019 KB)\n"
     ]
    },
    {
     "data": {
      "text/plain": [
       "(-1.351194751214285e6,-967785.5969341259,-1.1975439585340829e6)"
      ]
     },
     "execution_count": 23,
     "metadata": {},
     "output_type": "execute_result"
    }
   ],
   "source": [
    "@time get_acc(particles, 300)"
   ]
  },
  {
   "cell_type": "code",
   "execution_count": null,
   "metadata": {
    "collapsed": true
   },
   "outputs": [],
   "source": []
  }
 ],
 "metadata": {
  "anaconda-cloud": {},
  "kernelspec": {
   "display_name": "Julia 0.5.0",
   "language": "julia",
   "name": "julia-0.5"
  },
  "language_info": {
   "file_extension": ".jl",
   "mimetype": "application/julia",
   "name": "julia",
   "version": "0.5.0"
  }
 },
 "nbformat": 4,
 "nbformat_minor": 2
}
