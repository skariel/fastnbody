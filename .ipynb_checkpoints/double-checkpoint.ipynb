{
 "cells": [
  {
   "cell_type": "code",
   "execution_count": 1,
   "metadata": {
    "collapsed": false
   },
   "outputs": [],
   "source": [
    "include(\"lib/all_double.jl\");"
   ]
  },
  {
   "cell_type": "code",
   "execution_count": 2,
   "metadata": {
    "collapsed": false
   },
   "outputs": [],
   "source": [
    "N = 1000000\n",
    "particles = [Particle(rand(),rand(),rand(), 1.0) for i in 1:N];"
   ]
  },
  {
   "cell_type": "code",
   "execution_count": 3,
   "metadata": {
    "collapsed": false
   },
   "outputs": [
    {
     "name": "stdout",
     "output_type": "stream",
     "text": [
      "  0.375438 seconds (111.29 k allocations: 5.194 MB)\n"
     ]
    }
   ],
   "source": [
    "@time hilbertsort!(particles);"
   ]
  },
  {
   "cell_type": "code",
   "execution_count": 4,
   "metadata": {
    "collapsed": false
   },
   "outputs": [],
   "source": [
    "ot = OctTree(0.5,0.5,0.5,0.5, N);"
   ]
  },
  {
   "cell_type": "code",
   "execution_count": 9,
   "metadata": {
    "collapsed": false
   },
   "outputs": [],
   "source": [
    "clear!(ot)"
   ]
  },
  {
   "cell_type": "code",
   "execution_count": 10,
   "metadata": {
    "collapsed": true
   },
   "outputs": [],
   "source": [
    "#particles = [Particle(0.1,0.1,0.1,1.0), Particle(0.9,0.9,0.9,1.0)];"
   ]
  },
  {
   "cell_type": "code",
   "execution_count": 11,
   "metadata": {
    "collapsed": false
   },
   "outputs": [
    {
     "name": "stdout",
     "output_type": "stream",
     "text": [
      "  0.203855 seconds (4 allocations: 160 bytes)\n"
     ]
    }
   ],
   "source": [
    "@time insert!(ot, particles);"
   ]
  },
  {
   "cell_type": "code",
   "execution_count": 12,
   "metadata": {
    "collapsed": false
   },
   "outputs": [
    {
     "name": "stdout",
     "output_type": "stream",
     "text": [
      "  3.485634 seconds (4 allocations: 160 bytes)\n"
     ]
    }
   ],
   "source": [
    "@time prepare_accel!(ot, 0.5, 1.0e-152)"
   ]
  },
  {
   "cell_type": "code",
   "execution_count": 13,
   "metadata": {
    "collapsed": false
   },
   "outputs": [
    {
     "data": {
      "text/plain": [
       "(-1.2923498379766427e6,-839765.0500338407,-1.2591054613605775e6)"
      ]
     },
     "execution_count": 13,
     "metadata": {},
     "output_type": "execute_result"
    }
   ],
   "source": [
    "get_accel(ot, particles[7000])"
   ]
  },
  {
   "cell_type": "code",
   "execution_count": 22,
   "metadata": {
    "collapsed": false
   },
   "outputs": [
    {
     "data": {
      "text/plain": [
       "0.9832965445636468"
      ]
     },
     "execution_count": 22,
     "metadata": {},
     "output_type": "execute_result"
    }
   ],
   "source": [
    "particles[1].z"
   ]
  },
  {
   "cell_type": "code",
   "execution_count": null,
   "metadata": {
    "collapsed": true
   },
   "outputs": [],
   "source": [
    "names = [\"hxhyhz\", \"hxhylz\", \"hxlyhz\", \"hxlylz\", \"lxhyhz\", \"lxhylz\", \"lxlyhz\", \"lxlylz\"]\n",
    "jj = 0\n",
    "for i in 1:8\n",
    "    for j in i:8\n",
    "        jj += 1\n",
    "        println(\"curr_stack += 1\")\n",
    "        println(\"t.faststack1[curr_stack_ix] = q1.\"*names[j])\n",
    "        println(\"t.faststack2[curr_stack_ix] = q2.\"*names[i])\n",
    "    end\n",
    "end\n",
    "@show jj"
   ]
  },
  {
   "cell_type": "code",
   "execution_count": 14,
   "metadata": {
    "collapsed": false
   },
   "outputs": [
    {
     "data": {
      "text/plain": [
       "get_acc (generic function with 1 method)"
      ]
     },
     "execution_count": 14,
     "metadata": {},
     "output_type": "execute_result"
    }
   ],
   "source": [
    "function get_acc(particles, ix)\n",
    "    ax=0.0\n",
    "    ay=0.0\n",
    "    az=0.0\n",
    "    @inbounds for p in particles\n",
    "        dx = p.x-particles[ix].x\n",
    "        dy = p.y-particles[ix].y\n",
    "        dz = p.z-particles[ix].z\n",
    "        dr2 = dx*dx+dy*dy+dz*dz+1.0e-157\n",
    "        dr3 = dr2*sqrt(dr2)\n",
    "        ax += dx/dr3\n",
    "        ay += dy/dr3\n",
    "        az += dz/dr3\n",
    "    end\n",
    "    ax,ay,az\n",
    "end"
   ]
  },
  {
   "cell_type": "code",
   "execution_count": 16,
   "metadata": {
    "collapsed": false
   },
   "outputs": [
    {
     "name": "stdout",
     "output_type": "stream",
     "text": [
      "  0.020410 seconds (5 allocations: 192 bytes)\n"
     ]
    },
    {
     "data": {
      "text/plain": [
       "(-1.3957871568992033e6,-898684.3293896556,-1.3449186687881518e6)"
      ]
     },
     "execution_count": 16,
     "metadata": {},
     "output_type": "execute_result"
    }
   ],
   "source": [
    "@time get_acc(particles, 7000)"
   ]
  },
  {
   "cell_type": "code",
   "execution_count": null,
   "metadata": {
    "collapsed": true
   },
   "outputs": [],
   "source": []
  }
 ],
 "metadata": {
  "anaconda-cloud": {},
  "kernelspec": {
   "display_name": "Julia 0.5.0",
   "language": "julia",
   "name": "julia-0.5"
  },
  "language_info": {
   "file_extension": ".jl",
   "mimetype": "application/julia",
   "name": "julia",
   "version": "0.5.0"
  }
 },
 "nbformat": 4,
 "nbformat_minor": 2
}
