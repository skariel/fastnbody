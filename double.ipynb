{
 "cells": [
  {
   "cell_type": "code",
   "execution_count": 1,
   "metadata": {
    "collapsed": false
   },
   "outputs": [],
   "source": [
    "include(\"lib/all_double.jl\");"
   ]
  },
  {
   "cell_type": "code",
   "execution_count": 2,
   "metadata": {
    "collapsed": false
   },
   "outputs": [],
   "source": [
    "N = 1000000\n",
    "function myrnd()\n",
    "    n = -1.0\n",
    "    while n<0 || n>1\n",
    "        n = randn()^3/10+0.5\n",
    "    end\n",
    "    n\n",
    "end\n",
    "particles = [Particle(myrnd(),myrnd(),myrnd(), 1.0) for i in 1:N];"
   ]
  },
  {
   "cell_type": "code",
   "execution_count": 4,
   "metadata": {
    "collapsed": false
   },
   "outputs": [
    {
     "name": "stdout",
     "output_type": "stream",
     "text": [
      "  0.187894 seconds (4 allocations: 160 bytes)\n"
     ]
    }
   ],
   "source": [
    "@time hilbertsort!(particles);"
   ]
  },
  {
   "cell_type": "code",
   "execution_count": 29,
   "metadata": {
    "collapsed": false
   },
   "outputs": [],
   "source": [
    "ot = OctTree(0.5,0.5,0.5,0.5, N);"
   ]
  },
  {
   "cell_type": "code",
   "execution_count": 35,
   "metadata": {
    "collapsed": false
   },
   "outputs": [],
   "source": [
    "clear!(ot)"
   ]
  },
  {
   "cell_type": "code",
   "execution_count": 36,
   "metadata": {
    "collapsed": true
   },
   "outputs": [],
   "source": [
    "#particles = [Particle(0.1,0.1,0.1,1.0), Particle(0.9,0.9,0.9,1.0)];"
   ]
  },
  {
   "cell_type": "code",
   "execution_count": 37,
   "metadata": {
    "collapsed": false
   },
   "outputs": [
    {
     "name": "stdout",
     "output_type": "stream",
     "text": [
      "  0.256043 seconds (4 allocations: 160 bytes)\n"
     ]
    }
   ],
   "source": [
    "@time insert!(ot, particles);"
   ]
  },
  {
   "cell_type": "code",
   "execution_count": 38,
   "metadata": {
    "collapsed": false
   },
   "outputs": [
    {
     "name": "stdout",
     "output_type": "stream",
     "text": [
      "  3.708664 seconds (4 allocations: 160 bytes)\n"
     ]
    }
   ],
   "source": [
    "@time prepare_accel!(ot, 0.5, 1.0e-152)"
   ]
  },
  {
   "cell_type": "code",
   "execution_count": 34,
   "metadata": {
    "collapsed": false
   },
   "outputs": [
    {
     "data": {
      "text/plain": [
       "(-1.3366437759815152e8,-4.8819318573432796e7,-9.723674458862439e7)"
      ]
     },
     "execution_count": 34,
     "metadata": {},
     "output_type": "execute_result"
    }
   ],
   "source": [
    "get_accel(ot, particles[70000])"
   ]
  },
  {
   "cell_type": "code",
   "execution_count": 19,
   "metadata": {
    "collapsed": false
   },
   "outputs": [
    {
     "data": {
      "text/plain": [
       "get_acc (generic function with 1 method)"
      ]
     },
     "execution_count": 19,
     "metadata": {},
     "output_type": "execute_result"
    }
   ],
   "source": [
    "function get_acc(particles, ix)\n",
    "    ax=0.0\n",
    "    ay=0.0\n",
    "    az=0.0\n",
    "    @inbounds for p in particles\n",
    "        dx = p.x-particles[ix].x\n",
    "        dy = p.y-particles[ix].y\n",
    "        dz = p.z-particles[ix].z\n",
    "        dr2 = dx*dx+dy*dy+dz*dz+1.0e-157\n",
    "        dr3 = dr2*sqrt(dr2)\n",
    "        ax += dx/dr3\n",
    "        ay += dy/dr3\n",
    "        az += dz/dr3\n",
    "    end\n",
    "    ax,ay,az\n",
    "end"
   ]
  },
  {
   "cell_type": "code",
   "execution_count": 20,
   "metadata": {
    "collapsed": false
   },
   "outputs": [
    {
     "name": "stdout",
     "output_type": "stream",
     "text": [
      "  0.026314 seconds (4.57 k allocations: 202.752 KB)\n"
     ]
    },
    {
     "data": {
      "text/plain": [
       "(-1.2240142940335432e8,-4.860755211362966e7,-9.509666619615884e7)"
      ]
     },
     "execution_count": 20,
     "metadata": {},
     "output_type": "execute_result"
    }
   ],
   "source": [
    "@time get_acc(particles, 70000)"
   ]
  },
  {
   "cell_type": "code",
   "execution_count": null,
   "metadata": {
    "collapsed": true
   },
   "outputs": [],
   "source": []
  }
 ],
 "metadata": {
  "anaconda-cloud": {},
  "kernelspec": {
   "display_name": "Julia 0.5.0",
   "language": "julia",
   "name": "julia-0.5"
  },
  "language_info": {
   "file_extension": ".jl",
   "mimetype": "application/julia",
   "name": "julia",
   "version": "0.5.0"
  }
 },
 "nbformat": 4,
 "nbformat_minor": 2
}
