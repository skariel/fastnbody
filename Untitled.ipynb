{
 "cells": [
  {
   "cell_type": "code",
   "execution_count": 1,
   "metadata": {
    "collapsed": false
   },
   "outputs": [],
   "source": [
    "include(\"lib/all.jl\");"
   ]
  },
  {
   "cell_type": "code",
   "execution_count": 2,
   "metadata": {
    "collapsed": false
   },
   "outputs": [],
   "source": [
    "N = 1000000\n",
    "particles = [Particle(rand(),rand(),rand(), 1.0) for i in 1:N];"
   ]
  },
  {
   "cell_type": "code",
   "execution_count": 4,
   "metadata": {
    "collapsed": false
   },
   "outputs": [
    {
     "name": "stdout",
     "output_type": "stream",
     "text": [
      "  0.193044 seconds (4 allocations: 160 bytes)\n"
     ]
    }
   ],
   "source": [
    "@time hilbertsort!(particles);"
   ]
  },
  {
   "cell_type": "code",
   "execution_count": 26,
   "metadata": {
    "collapsed": false
   },
   "outputs": [],
   "source": [
    "ot = ParallelOctTree(0.5,0.5,0.5,0.5, N);"
   ]
  },
  {
   "cell_type": "code",
   "execution_count": 29,
   "metadata": {
    "collapsed": false
   },
   "outputs": [],
   "source": [
    "clear!(ot)"
   ]
  },
  {
   "cell_type": "code",
   "execution_count": 30,
   "metadata": {
    "collapsed": false
   },
   "outputs": [
    {
     "name": "stdout",
     "output_type": "stream",
     "text": [
      "  0.085098 seconds (9 allocations: 512 bytes)\n"
     ]
    }
   ],
   "source": [
    "@time insert!(ot, particles);"
   ]
  },
  {
   "cell_type": "code",
   "execution_count": 31,
   "metadata": {
    "collapsed": true
   },
   "outputs": [],
   "source": [
    "ax=zeros(N)\n",
    "ay=zeros(N)\n",
    "az=zeros(N);"
   ]
  },
  {
   "cell_type": "code",
   "execution_count": 32,
   "metadata": {
    "collapsed": false
   },
   "outputs": [
    {
     "name": "stdout",
     "output_type": "stream",
     "text": [
      "  3.703224 seconds (18.04 k allocations: 749.623 KB)\n"
     ]
    }
   ],
   "source": [
    "@time get_accel_all_particles!(ot, particles, 0.5, 1.0e-157, ax,ay,az);"
   ]
  },
  {
   "cell_type": "code",
   "execution_count": 33,
   "metadata": {
    "collapsed": false
   },
   "outputs": [
    {
     "data": {
      "text/plain": [
       "(-1.2567317262578912e6,-899781.1920394163,-1.111776638623682e6)"
      ]
     },
     "execution_count": 33,
     "metadata": {},
     "output_type": "execute_result"
    }
   ],
   "source": [
    "ax[300], ay[300], az[300]"
   ]
  },
  {
   "cell_type": "code",
   "execution_count": 37,
   "metadata": {
    "collapsed": false
   },
   "outputs": [
    {
     "name": "stdout",
     "output_type": "stream",
     "text": [
      "  2.560380 seconds (6 allocations: 256 bytes)\n"
     ]
    }
   ],
   "source": [
    "@time get_accel_all_particles_rel!(ot, particles, 0.025, 1.0e-157, ax,ay,az);"
   ]
  },
  {
   "cell_type": "code",
   "execution_count": 35,
   "metadata": {
    "collapsed": false
   },
   "outputs": [
    {
     "data": {
      "text/plain": [
       "(-1.2522316890869734e6,-901184.1984854738,-1.1112854707542148e6)"
      ]
     },
     "execution_count": 35,
     "metadata": {},
     "output_type": "execute_result"
    }
   ],
   "source": [
    "ax[300], ay[300], az[300]"
   ]
  },
  {
   "cell_type": "code",
   "execution_count": 21,
   "metadata": {
    "collapsed": false
   },
   "outputs": [
    {
     "data": {
      "text/plain": [
       "get_acc (generic function with 1 method)"
      ]
     },
     "execution_count": 21,
     "metadata": {},
     "output_type": "execute_result"
    }
   ],
   "source": [
    "function get_acc(particles, ix)\n",
    "    ax=0.0\n",
    "    ay=0.0\n",
    "    az=0.0\n",
    "    @inbounds for p in particles\n",
    "        dx = p.x-particles[ix].x\n",
    "        dy = p.y-particles[ix].y\n",
    "        dz = p.z-particles[ix].z\n",
    "        dr2 = dx*dx+dy*dy+dz*dz+1.0e-157\n",
    "        dr3 = dr2*sqrt(dr2)\n",
    "        ax += dx/dr3\n",
    "        ay += dy/dr3\n",
    "        az += dz/dr3\n",
    "    end\n",
    "    ax,ay,az\n",
    "end"
   ]
  },
  {
   "cell_type": "code",
   "execution_count": 22,
   "metadata": {
    "collapsed": false
   },
   "outputs": [
    {
     "name": "stdout",
     "output_type": "stream",
     "text": [
      "  0.026770 seconds (4.57 k allocations: 202.752 KB)\n"
     ]
    },
    {
     "data": {
      "text/plain": [
       "(-1.2551653885828e6,-900049.9988844194,-1.1148863954213215e6)"
      ]
     },
     "execution_count": 22,
     "metadata": {},
     "output_type": "execute_result"
    }
   ],
   "source": [
    "@time get_acc(particles, 300)"
   ]
  },
  {
   "cell_type": "code",
   "execution_count": null,
   "metadata": {
    "collapsed": true
   },
   "outputs": [],
   "source": []
  }
 ],
 "metadata": {
  "anaconda-cloud": {},
  "kernelspec": {
   "display_name": "Julia 0.5.0",
   "language": "julia",
   "name": "julia-0.5"
  },
  "language_info": {
   "file_extension": ".jl",
   "mimetype": "application/julia",
   "name": "julia",
   "version": "0.5.0"
  }
 },
 "nbformat": 4,
 "nbformat_minor": 2
}
